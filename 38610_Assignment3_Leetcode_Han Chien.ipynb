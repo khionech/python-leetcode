{
  "cells": [
    {
      "cell_type": "markdown",
      "metadata": {
        "id": "br3zmBgGvqi6"
      },
      "source": [
        "<img src=\"https://external-content.duckduckgo.com/iu/?u=https%3A%2F%2Fcdn-images-1.medium.com%2Fmax%2F1600%2F0*GePc7lo4CF4A3guP.png&f=1&nofb=1\" width=\"50%\" />\n",
        "\n",
        "Name: Han Chien\n",
        "\n",
        "Andrew ID: hanchien\n",
        "\n",
        "Use any library in Python Standard Library or any other library in PyPI to solve these LeetCode problems.\n",
        "\n",
        "Unlike Leetcode, our testing is limited so make "
      ]
    },
    {
      "cell_type": "markdown",
      "metadata": {
        "id": "0rEeYXq-vuIP"
      },
      "source": [
        "## Container With Most Water\n",
        "Solve the Leetcode problem described [here](https://leetcode.com/problems/container-with-most-water/)."
      ]
    },
    {
      "cell_type": "code",
      "execution_count": 2,
      "metadata": {
        "id": "cMRgbcLGvuRm"
      },
      "outputs": [],
      "source": [
        "# INSERT CODE HERE\n",
        "def maxArea(height):\n",
        "  \"\"\"\n",
        "  :type height: list[int]\n",
        "  :rtype: int\n",
        "  \"\"\"\n",
        "  start, end = 0, len(height)-1\n",
        "  cur_max = 0\n",
        "  while start < end:\n",
        "    cur_max = max(cur_max, min(height[start], height[end])*(end-start))\n",
        "    if height[start] < height[end]:\n",
        "      start += 1\n",
        "    else:\n",
        "      end -= 1\n",
        "  return cur_max\n",
        "\n",
        "height = [1,8,6,2,5,4,8,3,7]\n",
        "assert maxArea(height) == 49\n",
        "\n",
        "height = [1,1]\n",
        "assert maxArea(height) == 1"
      ]
    },
    {
      "cell_type": "markdown",
      "metadata": {
        "id": "SnUDycLFvuYm"
      },
      "source": [
        "## Reverse Integer\n",
        "Solve the Leetcode problem described [here](https://leetcode.com/problems/reverse-integer/)."
      ]
    },
    {
      "cell_type": "code",
      "execution_count": 8,
      "metadata": {
        "id": "Wp15mhB1vuee"
      },
      "outputs": [],
      "source": [
        "# INSERT CODE HERE\n",
        "def reverse(x):\n",
        "  \"\"\"\n",
        "  :type x: int\n",
        "  :rtype: int\n",
        "  \"\"\"\n",
        "  result = []\n",
        "  if x < 0:\n",
        "      str_x = str(x)[1:]\n",
        "      result.append('-')\n",
        "  else:\n",
        "      str_x = str(x)\n",
        "  \n",
        "  for i in range(len(str_x)-1, -1, -1):\n",
        "      result.append(str_x[i])\n",
        "  \n",
        "  result_int = int(''.join(result))\n",
        "  if result_int > 2**31-1 or result_int < -2**31:\n",
        "      return 0\n",
        "  \n",
        "  return result_int\n",
        "\n",
        "x = 123\n",
        "assert reverse(x) == 321\n",
        "\n",
        "x = -123\n",
        "assert reverse(x) == -321\n",
        "\n",
        "x = 120\n",
        "assert reverse(x) == 21"
      ]
    },
    {
      "cell_type": "markdown",
      "metadata": {
        "id": "UgA29uK_vuk2"
      },
      "source": [
        "# Count and Say\n",
        "Solve the Leetcode problem described [here](https://leetcode.com/problems/count-and-say/)."
      ]
    },
    {
      "cell_type": "code",
      "execution_count": 9,
      "metadata": {
        "id": "XbC1mzhbvurh"
      },
      "outputs": [],
      "source": [
        "# INSERT CODE HERE\n",
        "def countAndSay(n):\n",
        "  \"\"\"\n",
        "  :type n: int\n",
        "  :rtype: str\n",
        "  \"\"\"\n",
        "  cs_list = '1'\n",
        "  for i in range(1, n):\n",
        "      cur_list, cur_num, count = '', cs_list[0], 1\n",
        "      for j in range(1, len(cs_list)):\n",
        "          if cs_list[j] == cur_num:\n",
        "              count += 1\n",
        "          else:\n",
        "              cur_list = cur_list + str(count) + cur_num\n",
        "              cur_num = cs_list[j]\n",
        "              count = 1\n",
        "      cs_list = cur_list + str(count) + cur_num\n",
        "\n",
        "  return cs_list\n",
        "\n",
        "n = 4\n",
        "assert countAndSay(n) == '1211'\n",
        "\n",
        "n = 1\n",
        "assert countAndSay(n) == '1'"
      ]
    }
  ],
  "metadata": {
    "colab": {
      "authorship_tag": "ABX9TyOt6M4Z0IG+lZ9PGIef3mZg",
      "include_colab_link": true,
      "provenance": []
    },
    "kernelspec": {
      "display_name": "Python 3.9.12 ('base')",
      "language": "python",
      "name": "python3"
    },
    "language_info": {
      "codemirror_mode": {
        "name": "ipython",
        "version": 3
      },
      "file_extension": ".py",
      "mimetype": "text/x-python",
      "name": "python",
      "nbconvert_exporter": "python",
      "pygments_lexer": "ipython3",
      "version": "3.9.12"
    },
    "vscode": {
      "interpreter": {
        "hash": "5ceff718e762a64e7124f606c1b7b9d9506fbc88d32c98e7c162f7f3f11a97b0"
      }
    }
  },
  "nbformat": 4,
  "nbformat_minor": 0
}
